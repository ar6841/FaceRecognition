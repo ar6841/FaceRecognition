{
 "cells": [
  {
   "cell_type": "markdown",
   "id": "341dd48b",
   "metadata": {},
   "source": [
    "# Face recognition using Eigenface PCA"
   ]
  },
  {
   "cell_type": "code",
   "execution_count": 1,
   "id": "93cf8a14",
   "metadata": {},
   "outputs": [],
   "source": [
    "import cv2\n",
    "import numpy as np\n",
    "import matplotlib.pyplot as plt\n",
    "\n",
    "image = cv2.imread(r\"Face dataset\\Training\\subject01.happy.jpg\")\n",
    "\n",
    "cv2.imshow('i',image)\n"
   ]
  },
  {
   "cell_type": "code",
   "execution_count": null,
   "id": "f0e8f887",
   "metadata": {},
   "outputs": [],
   "source": []
  }
 ],
 "metadata": {
  "kernelspec": {
   "display_name": "Python 3 (ipykernel)",
   "language": "python",
   "name": "python3"
  },
  "language_info": {
   "codemirror_mode": {
    "name": "ipython",
    "version": 3
   },
   "file_extension": ".py",
   "mimetype": "text/x-python",
   "name": "python",
   "nbconvert_exporter": "python",
   "pygments_lexer": "ipython3",
   "version": "3.9.12"
  }
 },
 "nbformat": 4,
 "nbformat_minor": 5
}
